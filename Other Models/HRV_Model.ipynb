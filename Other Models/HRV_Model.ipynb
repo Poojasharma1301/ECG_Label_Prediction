{
  "nbformat": 4,
  "nbformat_minor": 0,
  "metadata": {
    "colab": {
      "provenance": []
    },
    "kernelspec": {
      "name": "python3",
      "display_name": "Python 3"
    },
    "language_info": {
      "name": "python"
    }
  },
  "cells": [
    {
      "cell_type": "code",
      "execution_count": 23,
      "metadata": {
        "id": "M5nzXxwJfsfp"
      },
      "outputs": [],
      "source": [
        "import numpy as np\n",
        "import pandas as pd"
      ]
    },
    {
      "cell_type": "code",
      "source": [
        "df = pd.read_csv('/content/New_HRV_Data.csv')"
      ],
      "metadata": {
        "id": "kWJBs30ChtuW"
      },
      "execution_count": 24,
      "outputs": []
    },
    {
      "cell_type": "code",
      "source": [
        "df.sample(5)"
      ],
      "metadata": {
        "colab": {
          "base_uri": "https://localhost:8080/",
          "height": 285
        },
        "id": "bQgYBJwghz3q",
        "outputId": "57ea7229-1c19-42d9-a434-15789f088dc8"
      },
      "execution_count": 25,
      "outputs": [
        {
          "output_type": "execute_result",
          "data": {
            "text/plain": [
              "    Age  Sex  Type  Mean RR  SDNN  Mean HR  STD HR  RMSSD  NN50  pNN50  \\\n",
              "11   34    1     0    794.3  23.0    75.60    2.19   11.0     1    0.1   \n",
              "0    55    1     0    753.4  37.5    79.80    3.35   36.3     4    0.3   \n",
              "67   46    1     0    557.7  42.1   108.04    6.44   67.0    48    8.2   \n",
              "8    52    1     1    728.8  33.6    82.58    6.67   43.8    11    0.9   \n",
              "6    36    1     1    734.6  29.3    81.81    3.35   16.7     6    0.5   \n",
              "\n",
              "    RR triangular Index   TINN  VLF   LF   HF  Total  Lf/HF   SD1   SD2  \n",
              "11                6.108  120.0  362   88   42    492  2.068   7.8  31.6  \n",
              "0                 8.135  320.0  710  449  360   1521  1.247  25.7  46.5  \n",
              "67                2.200  490.0  156  408  767   1337  0.532  47.4  36.1  \n",
              "8                 3.440  605.0  116  263  429    811  0.613  31.0  36.1  \n",
              "6                 7.968  145.0  485  210   65    761  3.245  11.8  39.8  "
            ],
            "text/html": [
              "\n",
              "  <div id=\"df-faa74ec8-7a51-49b1-8a55-944686bc48d4\">\n",
              "    <div class=\"colab-df-container\">\n",
              "      <div>\n",
              "<style scoped>\n",
              "    .dataframe tbody tr th:only-of-type {\n",
              "        vertical-align: middle;\n",
              "    }\n",
              "\n",
              "    .dataframe tbody tr th {\n",
              "        vertical-align: top;\n",
              "    }\n",
              "\n",
              "    .dataframe thead th {\n",
              "        text-align: right;\n",
              "    }\n",
              "</style>\n",
              "<table border=\"1\" class=\"dataframe\">\n",
              "  <thead>\n",
              "    <tr style=\"text-align: right;\">\n",
              "      <th></th>\n",
              "      <th>Age</th>\n",
              "      <th>Sex</th>\n",
              "      <th>Type</th>\n",
              "      <th>Mean RR</th>\n",
              "      <th>SDNN</th>\n",
              "      <th>Mean HR</th>\n",
              "      <th>STD HR</th>\n",
              "      <th>RMSSD</th>\n",
              "      <th>NN50</th>\n",
              "      <th>pNN50</th>\n",
              "      <th>RR triangular Index</th>\n",
              "      <th>TINN</th>\n",
              "      <th>VLF</th>\n",
              "      <th>LF</th>\n",
              "      <th>HF</th>\n",
              "      <th>Total</th>\n",
              "      <th>Lf/HF</th>\n",
              "      <th>SD1</th>\n",
              "      <th>SD2</th>\n",
              "    </tr>\n",
              "  </thead>\n",
              "  <tbody>\n",
              "    <tr>\n",
              "      <th>11</th>\n",
              "      <td>34</td>\n",
              "      <td>1</td>\n",
              "      <td>0</td>\n",
              "      <td>794.3</td>\n",
              "      <td>23.0</td>\n",
              "      <td>75.60</td>\n",
              "      <td>2.19</td>\n",
              "      <td>11.0</td>\n",
              "      <td>1</td>\n",
              "      <td>0.1</td>\n",
              "      <td>6.108</td>\n",
              "      <td>120.0</td>\n",
              "      <td>362</td>\n",
              "      <td>88</td>\n",
              "      <td>42</td>\n",
              "      <td>492</td>\n",
              "      <td>2.068</td>\n",
              "      <td>7.8</td>\n",
              "      <td>31.6</td>\n",
              "    </tr>\n",
              "    <tr>\n",
              "      <th>0</th>\n",
              "      <td>55</td>\n",
              "      <td>1</td>\n",
              "      <td>0</td>\n",
              "      <td>753.4</td>\n",
              "      <td>37.5</td>\n",
              "      <td>79.80</td>\n",
              "      <td>3.35</td>\n",
              "      <td>36.3</td>\n",
              "      <td>4</td>\n",
              "      <td>0.3</td>\n",
              "      <td>8.135</td>\n",
              "      <td>320.0</td>\n",
              "      <td>710</td>\n",
              "      <td>449</td>\n",
              "      <td>360</td>\n",
              "      <td>1521</td>\n",
              "      <td>1.247</td>\n",
              "      <td>25.7</td>\n",
              "      <td>46.5</td>\n",
              "    </tr>\n",
              "    <tr>\n",
              "      <th>67</th>\n",
              "      <td>46</td>\n",
              "      <td>1</td>\n",
              "      <td>0</td>\n",
              "      <td>557.7</td>\n",
              "      <td>42.1</td>\n",
              "      <td>108.04</td>\n",
              "      <td>6.44</td>\n",
              "      <td>67.0</td>\n",
              "      <td>48</td>\n",
              "      <td>8.2</td>\n",
              "      <td>2.200</td>\n",
              "      <td>490.0</td>\n",
              "      <td>156</td>\n",
              "      <td>408</td>\n",
              "      <td>767</td>\n",
              "      <td>1337</td>\n",
              "      <td>0.532</td>\n",
              "      <td>47.4</td>\n",
              "      <td>36.1</td>\n",
              "    </tr>\n",
              "    <tr>\n",
              "      <th>8</th>\n",
              "      <td>52</td>\n",
              "      <td>1</td>\n",
              "      <td>1</td>\n",
              "      <td>728.8</td>\n",
              "      <td>33.6</td>\n",
              "      <td>82.58</td>\n",
              "      <td>6.67</td>\n",
              "      <td>43.8</td>\n",
              "      <td>11</td>\n",
              "      <td>0.9</td>\n",
              "      <td>3.440</td>\n",
              "      <td>605.0</td>\n",
              "      <td>116</td>\n",
              "      <td>263</td>\n",
              "      <td>429</td>\n",
              "      <td>811</td>\n",
              "      <td>0.613</td>\n",
              "      <td>31.0</td>\n",
              "      <td>36.1</td>\n",
              "    </tr>\n",
              "    <tr>\n",
              "      <th>6</th>\n",
              "      <td>36</td>\n",
              "      <td>1</td>\n",
              "      <td>1</td>\n",
              "      <td>734.6</td>\n",
              "      <td>29.3</td>\n",
              "      <td>81.81</td>\n",
              "      <td>3.35</td>\n",
              "      <td>16.7</td>\n",
              "      <td>6</td>\n",
              "      <td>0.5</td>\n",
              "      <td>7.968</td>\n",
              "      <td>145.0</td>\n",
              "      <td>485</td>\n",
              "      <td>210</td>\n",
              "      <td>65</td>\n",
              "      <td>761</td>\n",
              "      <td>3.245</td>\n",
              "      <td>11.8</td>\n",
              "      <td>39.8</td>\n",
              "    </tr>\n",
              "  </tbody>\n",
              "</table>\n",
              "</div>\n",
              "      <button class=\"colab-df-convert\" onclick=\"convertToInteractive('df-faa74ec8-7a51-49b1-8a55-944686bc48d4')\"\n",
              "              title=\"Convert this dataframe to an interactive table.\"\n",
              "              style=\"display:none;\">\n",
              "        \n",
              "  <svg xmlns=\"http://www.w3.org/2000/svg\" height=\"24px\"viewBox=\"0 0 24 24\"\n",
              "       width=\"24px\">\n",
              "    <path d=\"M0 0h24v24H0V0z\" fill=\"none\"/>\n",
              "    <path d=\"M18.56 5.44l.94 2.06.94-2.06 2.06-.94-2.06-.94-.94-2.06-.94 2.06-2.06.94zm-11 1L8.5 8.5l.94-2.06 2.06-.94-2.06-.94L8.5 2.5l-.94 2.06-2.06.94zm10 10l.94 2.06.94-2.06 2.06-.94-2.06-.94-.94-2.06-.94 2.06-2.06.94z\"/><path d=\"M17.41 7.96l-1.37-1.37c-.4-.4-.92-.59-1.43-.59-.52 0-1.04.2-1.43.59L10.3 9.45l-7.72 7.72c-.78.78-.78 2.05 0 2.83L4 21.41c.39.39.9.59 1.41.59.51 0 1.02-.2 1.41-.59l7.78-7.78 2.81-2.81c.8-.78.8-2.07 0-2.86zM5.41 20L4 18.59l7.72-7.72 1.47 1.35L5.41 20z\"/>\n",
              "  </svg>\n",
              "      </button>\n",
              "      \n",
              "  <style>\n",
              "    .colab-df-container {\n",
              "      display:flex;\n",
              "      flex-wrap:wrap;\n",
              "      gap: 12px;\n",
              "    }\n",
              "\n",
              "    .colab-df-convert {\n",
              "      background-color: #E8F0FE;\n",
              "      border: none;\n",
              "      border-radius: 50%;\n",
              "      cursor: pointer;\n",
              "      display: none;\n",
              "      fill: #1967D2;\n",
              "      height: 32px;\n",
              "      padding: 0 0 0 0;\n",
              "      width: 32px;\n",
              "    }\n",
              "\n",
              "    .colab-df-convert:hover {\n",
              "      background-color: #E2EBFA;\n",
              "      box-shadow: 0px 1px 2px rgba(60, 64, 67, 0.3), 0px 1px 3px 1px rgba(60, 64, 67, 0.15);\n",
              "      fill: #174EA6;\n",
              "    }\n",
              "\n",
              "    [theme=dark] .colab-df-convert {\n",
              "      background-color: #3B4455;\n",
              "      fill: #D2E3FC;\n",
              "    }\n",
              "\n",
              "    [theme=dark] .colab-df-convert:hover {\n",
              "      background-color: #434B5C;\n",
              "      box-shadow: 0px 1px 3px 1px rgba(0, 0, 0, 0.15);\n",
              "      filter: drop-shadow(0px 1px 2px rgba(0, 0, 0, 0.3));\n",
              "      fill: #FFFFFF;\n",
              "    }\n",
              "  </style>\n",
              "\n",
              "      <script>\n",
              "        const buttonEl =\n",
              "          document.querySelector('#df-faa74ec8-7a51-49b1-8a55-944686bc48d4 button.colab-df-convert');\n",
              "        buttonEl.style.display =\n",
              "          google.colab.kernel.accessAllowed ? 'block' : 'none';\n",
              "\n",
              "        async function convertToInteractive(key) {\n",
              "          const element = document.querySelector('#df-faa74ec8-7a51-49b1-8a55-944686bc48d4');\n",
              "          const dataTable =\n",
              "            await google.colab.kernel.invokeFunction('convertToInteractive',\n",
              "                                                     [key], {});\n",
              "          if (!dataTable) return;\n",
              "\n",
              "          const docLinkHtml = 'Like what you see? Visit the ' +\n",
              "            '<a target=\"_blank\" href=https://colab.research.google.com/notebooks/data_table.ipynb>data table notebook</a>'\n",
              "            + ' to learn more about interactive tables.';\n",
              "          element.innerHTML = '';\n",
              "          dataTable['output_type'] = 'display_data';\n",
              "          await google.colab.output.renderOutput(dataTable, element);\n",
              "          const docLink = document.createElement('div');\n",
              "          docLink.innerHTML = docLinkHtml;\n",
              "          element.appendChild(docLink);\n",
              "        }\n",
              "      </script>\n",
              "    </div>\n",
              "  </div>\n",
              "  "
            ]
          },
          "metadata": {},
          "execution_count": 25
        }
      ]
    },
    {
      "cell_type": "code",
      "source": [
        "df.head(10)"
      ],
      "metadata": {
        "colab": {
          "base_uri": "https://localhost:8080/",
          "height": 462
        },
        "id": "u_cEB9qzKxpx",
        "outputId": "f6f69319-cedf-41e2-e97e-ebc74ed56754"
      },
      "execution_count": 58,
      "outputs": [
        {
          "output_type": "execute_result",
          "data": {
            "text/plain": [
              "   Age  Sex  Type  Mean RR   SDNN  Mean HR  STD HR  RMSSD  NN50  pNN50  \\\n",
              "0   55    1     0    753.4   37.5    79.80    3.35   36.3     4    0.3   \n",
              "1   58    0     1    726.1   49.1    83.04    6.56   63.2    47    3.7   \n",
              "2   50    1     1   1019.4  363.8    65.17   18.07  560.7   498   55.6   \n",
              "3   66    0     1    784.4   70.7    80.85    7.32   82.5   701   57.4   \n",
              "4   46    0     0   1002.1  197.6    63.34   18.07  319.1   646   71.1   \n",
              "5   42    0     2    684.1   25.8    87.83    3.29   17.6     4    0.3   \n",
              "6   36    1     1    734.6   29.3    81.81    3.35   16.7     6    0.5   \n",
              "7   32    0     2    797.3   41.7    75.46    3.93   33.3   120   11.5   \n",
              "8   52    1     1    728.8   33.6    82.58    6.67   43.8    11    0.9   \n",
              "9   61    1     0    672.0   46.8    89.75   10.99   52.6     9    0.7   \n",
              "\n",
              "   RR triangular Index   TINN    VLF     LF     HF   Total  Lf/HF    SD1  \\\n",
              "0                8.135  320.0    710    449    360    1521  1.247   25.7   \n",
              "1                8.520  545.0    653    363    773    1796  0.469   44.7   \n",
              "2                7.593  525.0  20813  21031  67236  109848  0.313  396.7   \n",
              "3               19.109  400.0   1155   1046   2131    4339  0.491   58.4   \n",
              "4               23.947  390.0   2054   4031  16686   22996  0.242  225.8   \n",
              "5                7.335  130.0    272    131     85     489  1.533   12.5   \n",
              "6                7.968  145.0    485    210     65     761  3.245   11.8   \n",
              "7               13.177  225.0    815    396    383    1595  1.032   23.5   \n",
              "8                3.440  605.0    116    263    429     811  0.613   31.0   \n",
              "9                7.524  670.0    671    544    856    2075  0.635   37.2   \n",
              "\n",
              "     SD2  \n",
              "0   46.5  \n",
              "1   53.0  \n",
              "2  328.0  \n",
              "3   81.2  \n",
              "4  164.8  \n",
              "5   34.3  \n",
              "6   39.8  \n",
              "7   54.0  \n",
              "8   36.1  \n",
              "9   54.7  "
            ],
            "text/html": [
              "\n",
              "  <div id=\"df-7acfdeb8-8189-46b3-96c1-8fec039d318a\">\n",
              "    <div class=\"colab-df-container\">\n",
              "      <div>\n",
              "<style scoped>\n",
              "    .dataframe tbody tr th:only-of-type {\n",
              "        vertical-align: middle;\n",
              "    }\n",
              "\n",
              "    .dataframe tbody tr th {\n",
              "        vertical-align: top;\n",
              "    }\n",
              "\n",
              "    .dataframe thead th {\n",
              "        text-align: right;\n",
              "    }\n",
              "</style>\n",
              "<table border=\"1\" class=\"dataframe\">\n",
              "  <thead>\n",
              "    <tr style=\"text-align: right;\">\n",
              "      <th></th>\n",
              "      <th>Age</th>\n",
              "      <th>Sex</th>\n",
              "      <th>Type</th>\n",
              "      <th>Mean RR</th>\n",
              "      <th>SDNN</th>\n",
              "      <th>Mean HR</th>\n",
              "      <th>STD HR</th>\n",
              "      <th>RMSSD</th>\n",
              "      <th>NN50</th>\n",
              "      <th>pNN50</th>\n",
              "      <th>RR triangular Index</th>\n",
              "      <th>TINN</th>\n",
              "      <th>VLF</th>\n",
              "      <th>LF</th>\n",
              "      <th>HF</th>\n",
              "      <th>Total</th>\n",
              "      <th>Lf/HF</th>\n",
              "      <th>SD1</th>\n",
              "      <th>SD2</th>\n",
              "    </tr>\n",
              "  </thead>\n",
              "  <tbody>\n",
              "    <tr>\n",
              "      <th>0</th>\n",
              "      <td>55</td>\n",
              "      <td>1</td>\n",
              "      <td>0</td>\n",
              "      <td>753.4</td>\n",
              "      <td>37.5</td>\n",
              "      <td>79.80</td>\n",
              "      <td>3.35</td>\n",
              "      <td>36.3</td>\n",
              "      <td>4</td>\n",
              "      <td>0.3</td>\n",
              "      <td>8.135</td>\n",
              "      <td>320.0</td>\n",
              "      <td>710</td>\n",
              "      <td>449</td>\n",
              "      <td>360</td>\n",
              "      <td>1521</td>\n",
              "      <td>1.247</td>\n",
              "      <td>25.7</td>\n",
              "      <td>46.5</td>\n",
              "    </tr>\n",
              "    <tr>\n",
              "      <th>1</th>\n",
              "      <td>58</td>\n",
              "      <td>0</td>\n",
              "      <td>1</td>\n",
              "      <td>726.1</td>\n",
              "      <td>49.1</td>\n",
              "      <td>83.04</td>\n",
              "      <td>6.56</td>\n",
              "      <td>63.2</td>\n",
              "      <td>47</td>\n",
              "      <td>3.7</td>\n",
              "      <td>8.520</td>\n",
              "      <td>545.0</td>\n",
              "      <td>653</td>\n",
              "      <td>363</td>\n",
              "      <td>773</td>\n",
              "      <td>1796</td>\n",
              "      <td>0.469</td>\n",
              "      <td>44.7</td>\n",
              "      <td>53.0</td>\n",
              "    </tr>\n",
              "    <tr>\n",
              "      <th>2</th>\n",
              "      <td>50</td>\n",
              "      <td>1</td>\n",
              "      <td>1</td>\n",
              "      <td>1019.4</td>\n",
              "      <td>363.8</td>\n",
              "      <td>65.17</td>\n",
              "      <td>18.07</td>\n",
              "      <td>560.7</td>\n",
              "      <td>498</td>\n",
              "      <td>55.6</td>\n",
              "      <td>7.593</td>\n",
              "      <td>525.0</td>\n",
              "      <td>20813</td>\n",
              "      <td>21031</td>\n",
              "      <td>67236</td>\n",
              "      <td>109848</td>\n",
              "      <td>0.313</td>\n",
              "      <td>396.7</td>\n",
              "      <td>328.0</td>\n",
              "    </tr>\n",
              "    <tr>\n",
              "      <th>3</th>\n",
              "      <td>66</td>\n",
              "      <td>0</td>\n",
              "      <td>1</td>\n",
              "      <td>784.4</td>\n",
              "      <td>70.7</td>\n",
              "      <td>80.85</td>\n",
              "      <td>7.32</td>\n",
              "      <td>82.5</td>\n",
              "      <td>701</td>\n",
              "      <td>57.4</td>\n",
              "      <td>19.109</td>\n",
              "      <td>400.0</td>\n",
              "      <td>1155</td>\n",
              "      <td>1046</td>\n",
              "      <td>2131</td>\n",
              "      <td>4339</td>\n",
              "      <td>0.491</td>\n",
              "      <td>58.4</td>\n",
              "      <td>81.2</td>\n",
              "    </tr>\n",
              "    <tr>\n",
              "      <th>4</th>\n",
              "      <td>46</td>\n",
              "      <td>0</td>\n",
              "      <td>0</td>\n",
              "      <td>1002.1</td>\n",
              "      <td>197.6</td>\n",
              "      <td>63.34</td>\n",
              "      <td>18.07</td>\n",
              "      <td>319.1</td>\n",
              "      <td>646</td>\n",
              "      <td>71.1</td>\n",
              "      <td>23.947</td>\n",
              "      <td>390.0</td>\n",
              "      <td>2054</td>\n",
              "      <td>4031</td>\n",
              "      <td>16686</td>\n",
              "      <td>22996</td>\n",
              "      <td>0.242</td>\n",
              "      <td>225.8</td>\n",
              "      <td>164.8</td>\n",
              "    </tr>\n",
              "    <tr>\n",
              "      <th>5</th>\n",
              "      <td>42</td>\n",
              "      <td>0</td>\n",
              "      <td>2</td>\n",
              "      <td>684.1</td>\n",
              "      <td>25.8</td>\n",
              "      <td>87.83</td>\n",
              "      <td>3.29</td>\n",
              "      <td>17.6</td>\n",
              "      <td>4</td>\n",
              "      <td>0.3</td>\n",
              "      <td>7.335</td>\n",
              "      <td>130.0</td>\n",
              "      <td>272</td>\n",
              "      <td>131</td>\n",
              "      <td>85</td>\n",
              "      <td>489</td>\n",
              "      <td>1.533</td>\n",
              "      <td>12.5</td>\n",
              "      <td>34.3</td>\n",
              "    </tr>\n",
              "    <tr>\n",
              "      <th>6</th>\n",
              "      <td>36</td>\n",
              "      <td>1</td>\n",
              "      <td>1</td>\n",
              "      <td>734.6</td>\n",
              "      <td>29.3</td>\n",
              "      <td>81.81</td>\n",
              "      <td>3.35</td>\n",
              "      <td>16.7</td>\n",
              "      <td>6</td>\n",
              "      <td>0.5</td>\n",
              "      <td>7.968</td>\n",
              "      <td>145.0</td>\n",
              "      <td>485</td>\n",
              "      <td>210</td>\n",
              "      <td>65</td>\n",
              "      <td>761</td>\n",
              "      <td>3.245</td>\n",
              "      <td>11.8</td>\n",
              "      <td>39.8</td>\n",
              "    </tr>\n",
              "    <tr>\n",
              "      <th>7</th>\n",
              "      <td>32</td>\n",
              "      <td>0</td>\n",
              "      <td>2</td>\n",
              "      <td>797.3</td>\n",
              "      <td>41.7</td>\n",
              "      <td>75.46</td>\n",
              "      <td>3.93</td>\n",
              "      <td>33.3</td>\n",
              "      <td>120</td>\n",
              "      <td>11.5</td>\n",
              "      <td>13.177</td>\n",
              "      <td>225.0</td>\n",
              "      <td>815</td>\n",
              "      <td>396</td>\n",
              "      <td>383</td>\n",
              "      <td>1595</td>\n",
              "      <td>1.032</td>\n",
              "      <td>23.5</td>\n",
              "      <td>54.0</td>\n",
              "    </tr>\n",
              "    <tr>\n",
              "      <th>8</th>\n",
              "      <td>52</td>\n",
              "      <td>1</td>\n",
              "      <td>1</td>\n",
              "      <td>728.8</td>\n",
              "      <td>33.6</td>\n",
              "      <td>82.58</td>\n",
              "      <td>6.67</td>\n",
              "      <td>43.8</td>\n",
              "      <td>11</td>\n",
              "      <td>0.9</td>\n",
              "      <td>3.440</td>\n",
              "      <td>605.0</td>\n",
              "      <td>116</td>\n",
              "      <td>263</td>\n",
              "      <td>429</td>\n",
              "      <td>811</td>\n",
              "      <td>0.613</td>\n",
              "      <td>31.0</td>\n",
              "      <td>36.1</td>\n",
              "    </tr>\n",
              "    <tr>\n",
              "      <th>9</th>\n",
              "      <td>61</td>\n",
              "      <td>1</td>\n",
              "      <td>0</td>\n",
              "      <td>672.0</td>\n",
              "      <td>46.8</td>\n",
              "      <td>89.75</td>\n",
              "      <td>10.99</td>\n",
              "      <td>52.6</td>\n",
              "      <td>9</td>\n",
              "      <td>0.7</td>\n",
              "      <td>7.524</td>\n",
              "      <td>670.0</td>\n",
              "      <td>671</td>\n",
              "      <td>544</td>\n",
              "      <td>856</td>\n",
              "      <td>2075</td>\n",
              "      <td>0.635</td>\n",
              "      <td>37.2</td>\n",
              "      <td>54.7</td>\n",
              "    </tr>\n",
              "  </tbody>\n",
              "</table>\n",
              "</div>\n",
              "      <button class=\"colab-df-convert\" onclick=\"convertToInteractive('df-7acfdeb8-8189-46b3-96c1-8fec039d318a')\"\n",
              "              title=\"Convert this dataframe to an interactive table.\"\n",
              "              style=\"display:none;\">\n",
              "        \n",
              "  <svg xmlns=\"http://www.w3.org/2000/svg\" height=\"24px\"viewBox=\"0 0 24 24\"\n",
              "       width=\"24px\">\n",
              "    <path d=\"M0 0h24v24H0V0z\" fill=\"none\"/>\n",
              "    <path d=\"M18.56 5.44l.94 2.06.94-2.06 2.06-.94-2.06-.94-.94-2.06-.94 2.06-2.06.94zm-11 1L8.5 8.5l.94-2.06 2.06-.94-2.06-.94L8.5 2.5l-.94 2.06-2.06.94zm10 10l.94 2.06.94-2.06 2.06-.94-2.06-.94-.94-2.06-.94 2.06-2.06.94z\"/><path d=\"M17.41 7.96l-1.37-1.37c-.4-.4-.92-.59-1.43-.59-.52 0-1.04.2-1.43.59L10.3 9.45l-7.72 7.72c-.78.78-.78 2.05 0 2.83L4 21.41c.39.39.9.59 1.41.59.51 0 1.02-.2 1.41-.59l7.78-7.78 2.81-2.81c.8-.78.8-2.07 0-2.86zM5.41 20L4 18.59l7.72-7.72 1.47 1.35L5.41 20z\"/>\n",
              "  </svg>\n",
              "      </button>\n",
              "      \n",
              "  <style>\n",
              "    .colab-df-container {\n",
              "      display:flex;\n",
              "      flex-wrap:wrap;\n",
              "      gap: 12px;\n",
              "    }\n",
              "\n",
              "    .colab-df-convert {\n",
              "      background-color: #E8F0FE;\n",
              "      border: none;\n",
              "      border-radius: 50%;\n",
              "      cursor: pointer;\n",
              "      display: none;\n",
              "      fill: #1967D2;\n",
              "      height: 32px;\n",
              "      padding: 0 0 0 0;\n",
              "      width: 32px;\n",
              "    }\n",
              "\n",
              "    .colab-df-convert:hover {\n",
              "      background-color: #E2EBFA;\n",
              "      box-shadow: 0px 1px 2px rgba(60, 64, 67, 0.3), 0px 1px 3px 1px rgba(60, 64, 67, 0.15);\n",
              "      fill: #174EA6;\n",
              "    }\n",
              "\n",
              "    [theme=dark] .colab-df-convert {\n",
              "      background-color: #3B4455;\n",
              "      fill: #D2E3FC;\n",
              "    }\n",
              "\n",
              "    [theme=dark] .colab-df-convert:hover {\n",
              "      background-color: #434B5C;\n",
              "      box-shadow: 0px 1px 3px 1px rgba(0, 0, 0, 0.15);\n",
              "      filter: drop-shadow(0px 1px 2px rgba(0, 0, 0, 0.3));\n",
              "      fill: #FFFFFF;\n",
              "    }\n",
              "  </style>\n",
              "\n",
              "      <script>\n",
              "        const buttonEl =\n",
              "          document.querySelector('#df-7acfdeb8-8189-46b3-96c1-8fec039d318a button.colab-df-convert');\n",
              "        buttonEl.style.display =\n",
              "          google.colab.kernel.accessAllowed ? 'block' : 'none';\n",
              "\n",
              "        async function convertToInteractive(key) {\n",
              "          const element = document.querySelector('#df-7acfdeb8-8189-46b3-96c1-8fec039d318a');\n",
              "          const dataTable =\n",
              "            await google.colab.kernel.invokeFunction('convertToInteractive',\n",
              "                                                     [key], {});\n",
              "          if (!dataTable) return;\n",
              "\n",
              "          const docLinkHtml = 'Like what you see? Visit the ' +\n",
              "            '<a target=\"_blank\" href=https://colab.research.google.com/notebooks/data_table.ipynb>data table notebook</a>'\n",
              "            + ' to learn more about interactive tables.';\n",
              "          element.innerHTML = '';\n",
              "          dataTable['output_type'] = 'display_data';\n",
              "          await google.colab.output.renderOutput(dataTable, element);\n",
              "          const docLink = document.createElement('div');\n",
              "          docLink.innerHTML = docLinkHtml;\n",
              "          element.appendChild(docLink);\n",
              "        }\n",
              "      </script>\n",
              "    </div>\n",
              "  </div>\n",
              "  "
            ]
          },
          "metadata": {},
          "execution_count": 58
        }
      ]
    },
    {
      "cell_type": "code",
      "source": [
        "df.shape"
      ],
      "metadata": {
        "colab": {
          "base_uri": "https://localhost:8080/"
        },
        "id": "AQpOaSi4h4HR",
        "outputId": "07c1094b-e087-4fea-f427-f2c4b3445a2f"
      },
      "execution_count": 26,
      "outputs": [
        {
          "output_type": "execute_result",
          "data": {
            "text/plain": [
              "(97, 19)"
            ]
          },
          "metadata": {},
          "execution_count": 26
        }
      ]
    },
    {
      "cell_type": "code",
      "source": [
        "df.info()"
      ],
      "metadata": {
        "colab": {
          "base_uri": "https://localhost:8080/"
        },
        "id": "992Oynqgh7MK",
        "outputId": "7f726541-3153-4ccf-c5e8-b871340300ee"
      },
      "execution_count": 27,
      "outputs": [
        {
          "output_type": "stream",
          "name": "stdout",
          "text": [
            "<class 'pandas.core.frame.DataFrame'>\n",
            "RangeIndex: 97 entries, 0 to 96\n",
            "Data columns (total 19 columns):\n",
            " #   Column               Non-Null Count  Dtype  \n",
            "---  ------               --------------  -----  \n",
            " 0   Age                  97 non-null     int64  \n",
            " 1   Sex                  97 non-null     int64  \n",
            " 2   Type                 97 non-null     int64  \n",
            " 3   Mean RR              97 non-null     float64\n",
            " 4   SDNN                 97 non-null     float64\n",
            " 5   Mean HR              97 non-null     float64\n",
            " 6   STD HR               97 non-null     float64\n",
            " 7   RMSSD                97 non-null     float64\n",
            " 8   NN50                 97 non-null     int64  \n",
            " 9   pNN50                97 non-null     float64\n",
            " 10  RR triangular Index  97 non-null     float64\n",
            " 11  TINN                 97 non-null     float64\n",
            " 12  VLF                  97 non-null     int64  \n",
            " 13  LF                   97 non-null     int64  \n",
            " 14  HF                   97 non-null     int64  \n",
            " 15  Total                97 non-null     int64  \n",
            " 16  Lf/HF                97 non-null     float64\n",
            " 17  SD1                  97 non-null     float64\n",
            " 18  SD2                  97 non-null     float64\n",
            "dtypes: float64(11), int64(8)\n",
            "memory usage: 14.5 KB\n"
          ]
        }
      ]
    },
    {
      "cell_type": "code",
      "source": [
        "# missing values\n",
        "df.isnull().sum()"
      ],
      "metadata": {
        "colab": {
          "base_uri": "https://localhost:8080/"
        },
        "id": "4K-U2-VmiAip",
        "outputId": "2a42f7b0-2399-4eee-80a8-3ebf048ea2b1"
      },
      "execution_count": 28,
      "outputs": [
        {
          "output_type": "execute_result",
          "data": {
            "text/plain": [
              "Age                    0\n",
              "Sex                    0\n",
              "Type                   0\n",
              "Mean RR                0\n",
              "SDNN                   0\n",
              "Mean HR                0\n",
              "STD HR                 0\n",
              "RMSSD                  0\n",
              "NN50                   0\n",
              "pNN50                  0\n",
              "RR triangular Index    0\n",
              "TINN                   0\n",
              "VLF                    0\n",
              "LF                     0\n",
              "HF                     0\n",
              "Total                  0\n",
              "Lf/HF                  0\n",
              "SD1                    0\n",
              "SD2                    0\n",
              "dtype: int64"
            ]
          },
          "metadata": {},
          "execution_count": 28
        }
      ]
    },
    {
      "cell_type": "code",
      "source": [
        "# check for duplicate values\n",
        "df.duplicated().sum()"
      ],
      "metadata": {
        "colab": {
          "base_uri": "https://localhost:8080/"
        },
        "id": "AwH-pUDAiHbb",
        "outputId": "40cf3db8-8b65-45e3-b582-3b226309dd34"
      },
      "execution_count": 29,
      "outputs": [
        {
          "output_type": "execute_result",
          "data": {
            "text/plain": [
              "0"
            ]
          },
          "metadata": {},
          "execution_count": 29
        }
      ]
    },
    {
      "cell_type": "code",
      "source": [
        "import matplotlib.pyplot as plt\n",
        "plt.pie(df['Type'].value_counts(), labels=['0','1','2'],autopct=\"%0.2f\")\n",
        "plt.show()\n"
      ],
      "metadata": {
        "colab": {
          "base_uri": "https://localhost:8080/",
          "height": 248
        },
        "id": "gusGMjEAiKYG",
        "outputId": "b274a23f-2949-4802-b0f6-5cd11f904a87"
      },
      "execution_count": 30,
      "outputs": [
        {
          "output_type": "display_data",
          "data": {
            "text/plain": [
              "<Figure size 432x288 with 1 Axes>"
            ],
            "image/png": "[encoded data removed]"
          },
          "metadata": {}
        }
      ]
    },
    {
      "cell_type": "code",
      "source": [
        "df['Type'].unique()"
      ],
      "metadata": {
        "colab": {
          "base_uri": "https://localhost:8080/"
        },
        "id": "MG9KZNyhiXCG",
        "outputId": "eebe491e-5629-48fc-fb57-7e5163059c53"
      },
      "execution_count": 31,
      "outputs": [
        {
          "output_type": "execute_result",
          "data": {
            "text/plain": [
              "array([0, 1, 2])"
            ]
          },
          "metadata": {},
          "execution_count": 31
        }
      ]
    },
    {
      "cell_type": "code",
      "source": [
        "x=df.drop(['Type'],axis=1)  \n",
        "y= df.Type                      "
      ],
      "metadata": {
        "id": "JyQEZN78igL0"
      },
      "execution_count": 32,
      "outputs": []
    },
    {
      "cell_type": "code",
      "source": [
        "x.shape"
      ],
      "metadata": {
        "colab": {
          "base_uri": "https://localhost:8080/"
        },
        "id": "x8L_Esmxj1G6",
        "outputId": "c8a89de1-142f-48aa-cd6c-9505bd1be5e8"
      },
      "execution_count": 33,
      "outputs": [
        {
          "output_type": "execute_result",
          "data": {
            "text/plain": [
              "(97, 18)"
            ]
          },
          "metadata": {},
          "execution_count": 33
        }
      ]
    },
    {
      "cell_type": "code",
      "source": [
        "y.shape"
      ],
      "metadata": {
        "colab": {
          "base_uri": "https://localhost:8080/"
        },
        "id": "cqdVBzirj2m7",
        "outputId": "f4370a0e-7837-4b5f-cd24-850592af25ad"
      },
      "execution_count": 34,
      "outputs": [
        {
          "output_type": "execute_result",
          "data": {
            "text/plain": [
              "(97,)"
            ]
          },
          "metadata": {},
          "execution_count": 34
        }
      ]
    },
    {
      "cell_type": "code",
      "source": [
        "from sklearn.datasets import load_iris\n",
        "from sklearn.preprocessing import StandardScaler"
      ],
      "metadata": {
        "id": "bS2Q42yElP4c"
      },
      "execution_count": 35,
      "outputs": []
    },
    {
      "cell_type": "code",
      "source": [
        "dataset = load_iris()\n",
        "object= StandardScaler()"
      ],
      "metadata": {
        "id": "kmzmDGe2lQEK"
      },
      "execution_count": 36,
      "outputs": []
    },
    {
      "cell_type": "code",
      "source": [
        "# standardization \n",
        "x = object.fit_transform(x) \n",
        "print(x)"
      ],
      "metadata": {
        "colab": {
          "base_uri": "https://localhost:8080/"
        },
        "id": "0OWnTY8tlQIm",
        "outputId": "54002bae-3420-4557-fe7b-de54d0439108"
      },
      "execution_count": 59,
      "outputs": [
        {
          "output_type": "stream",
          "name": "stdout",
          "text": [
            "[[ 0.15178989  0.82000841 -0.31137952 ... -0.1026156  -0.31998559\n",
            "  -0.31262795]\n",
            " [ 0.38065445 -1.21949969 -0.50623822 ... -0.10327577 -0.04712507\n",
            "  -0.180267  ]\n",
            " [-0.22965103  0.82000841  1.58724377 ... -0.10340814  5.00797507\n",
            "   5.41961919]\n",
            " ...\n",
            " [-0.9162447  -1.21949969 -1.0065897  ... -0.10255451 -0.51098795\n",
            "  -0.33299117]\n",
            " [-0.9162447  -1.21949969  0.33529443 ... -0.10285235 -0.14908874\n",
            "   0.75440491]\n",
            " [-0.45851559  0.82000841  0.24464587 ... -0.10350742  2.57808034\n",
            "   3.39347855]]\n"
          ]
        }
      ]
    },
    {
      "cell_type": "code",
      "source": [
        "from sklearn.model_selection import train_test_split\n",
        "X_train, X_test, y_train , y_test = train_test_split(x,y, train_size= 0.8, random_state =1) "
      ],
      "metadata": {
        "id": "9CI7Klz6jGW9"
      },
      "execution_count": 60,
      "outputs": []
    },
    {
      "cell_type": "code",
      "source": [
        "y_train"
      ],
      "metadata": {
        "colab": {
          "base_uri": "https://localhost:8080/"
        },
        "id": "9xS4wB-MMPbr",
        "outputId": "1228abc3-658c-42b5-a961-83f252e1c462"
      },
      "execution_count": 80,
      "outputs": [
        {
          "output_type": "execute_result",
          "data": {
            "text/plain": [
              "39    1\n",
              "31    1\n",
              "52    1\n",
              "19    1\n",
              "91    2\n",
              "     ..\n",
              "75    2\n",
              "9     0\n",
              "72    0\n",
              "12    0\n",
              "37    2\n",
              "Name: Type, Length: 77, dtype: int64"
            ]
          },
          "metadata": {},
          "execution_count": 80
        }
      ]
    },
    {
      "cell_type": "code",
      "source": [
        "#random forest classifier\n",
        "import warnings\n",
        "warnings.filterwarnings('ignore')\n",
        "\n",
        "\n",
        "from sklearn import metrics\n",
        "\n",
        "from sklearn.ensemble import RandomForestClassifier\n",
        "rt = RandomForestClassifier(n_estimators=200)\n",
        "\n",
        "rt.fit(X_train , y_train)\n",
        "\n",
        "y_pred =rt.predict(X_test)\n",
        "\n",
        "print('acuuracy==', metrics.accuracy_score(y_test, y_pred))"
      ],
      "metadata": {
        "colab": {
          "base_uri": "https://localhost:8080/"
        },
        "id": "_oDfQiVNkMcu",
        "outputId": "4fd755aa-13af-4192-fbc8-f329c8210155"
      },
      "execution_count": 81,
      "outputs": [
        {
          "output_type": "stream",
          "name": "stdout",
          "text": [
            "acuuracy== 0.65\n"
          ]
        }
      ]
    },
    {
      "cell_type": "code",
      "source": [
        "from sklearn.metrics import accuracy_score,confusion_matrix,precision_score"
      ],
      "metadata": {
        "id": "eAohAjOrmiKt"
      },
      "execution_count": 63,
      "outputs": []
    },
    {
      "cell_type": "code",
      "source": [
        "from sklearn.linear_model import LogisticRegression\n",
        "from sklearn.svm import SVC\n",
        "from sklearn.naive_bayes import MultinomialNB\n",
        "from sklearn.tree import DecisionTreeClassifier\n",
        "from sklearn.neighbors import KNeighborsClassifier\n",
        "from sklearn.ensemble import RandomForestClassifier\n",
        "from sklearn.ensemble import AdaBoostClassifier\n",
        "from sklearn.ensemble import BaggingClassifier\n",
        "from sklearn.ensemble import ExtraTreesClassifier\n",
        "from sklearn.ensemble import GradientBoostingClassifier\n",
        "from xgboost import XGBClassifier"
      ],
      "metadata": {
        "id": "nmE578Hykfwj"
      },
      "execution_count": 64,
      "outputs": []
    },
    {
      "cell_type": "code",
      "source": [
        "svc = SVC(kernel='sigmoid', gamma=1.0)\n",
        "knc = KNeighborsClassifier()\n",
        "mnb = MultinomialNB()\n",
        "dtc = DecisionTreeClassifier(max_depth=5)\n",
        "lrc = LogisticRegression(solver='liblinear', penalty='l1')\n",
        "rfc = RandomForestClassifier(n_estimators=50, random_state=2)\n",
        "abc = AdaBoostClassifier(n_estimators=50, random_state=2)\n",
        "bc = BaggingClassifier(n_estimators=50, random_state=2)\n",
        "etc = ExtraTreesClassifier(n_estimators=50, random_state=2)\n",
        "gbdt = GradientBoostingClassifier(n_estimators=50,random_state=2)\n",
        "xgb = XGBClassifier(n_estimators=50,random_state=2)"
      ],
      "metadata": {
        "id": "ReuO85FimDow"
      },
      "execution_count": 65,
      "outputs": []
    },
    {
      "cell_type": "code",
      "source": [
        "svc.fit(X_train , y_train)\n",
        "\n",
        "y_pred =svc.predict(X_test)\n",
        "\n",
        "print('acuuracy==', metrics.accuracy_score(y_test, y_pred))"
      ],
      "metadata": {
        "colab": {
          "base_uri": "https://localhost:8080/"
        },
        "id": "OPGAa1r3m9ly",
        "outputId": "348bc3df-c666-44a8-c802-d61afb674fc7"
      },
      "execution_count": 67,
      "outputs": [
        {
          "output_type": "stream",
          "name": "stdout",
          "text": [
            "acuuracy== 0.35\n"
          ]
        }
      ]
    },
    {
      "cell_type": "code",
      "source": [
        "knc.fit(X_train , y_train)\n",
        "\n",
        "y_pred =knc.predict(X_test)\n",
        "\n",
        "print('acuuracy==', metrics.accuracy_score(y_test, y_pred))"
      ],
      "metadata": {
        "colab": {
          "base_uri": "https://localhost:8080/"
        },
        "id": "LsCD8d3jnv7u",
        "outputId": "fb2a4e53-7c1a-4d8d-a928-0675ca70a719"
      },
      "execution_count": 68,
      "outputs": [
        {
          "output_type": "stream",
          "name": "stdout",
          "text": [
            "acuuracy== 0.45\n"
          ]
        }
      ]
    },
    {
      "cell_type": "code",
      "source": [
        "dtc.fit(X_train , y_train)\n",
        "\n",
        "y_pred =dtc.predict(X_test)\n",
        "\n",
        "print('acuuracy==', metrics.accuracy_score(y_test, y_pred))"
      ],
      "metadata": {
        "colab": {
          "base_uri": "https://localhost:8080/"
        },
        "id": "1duKRE29n0Bw",
        "outputId": "c3087ced-5fd2-414e-91c1-032955b571ac"
      },
      "execution_count": 69,
      "outputs": [
        {
          "output_type": "stream",
          "name": "stdout",
          "text": [
            "acuuracy== 0.4\n"
          ]
        }
      ]
    },
    {
      "cell_type": "code",
      "source": [
        "lrc.fit(X_train , y_train)\n",
        "\n",
        "y_pred =lrc.predict(X_test)\n",
        "\n",
        "print('acuuracy==', metrics.accuracy_score(y_test, y_pred))"
      ],
      "metadata": {
        "colab": {
          "base_uri": "https://localhost:8080/"
        },
        "id": "8oIaOvgfn4eF",
        "outputId": "06aa20cf-8e0a-402e-d2ad-0c01bf23a4e3"
      },
      "execution_count": 70,
      "outputs": [
        {
          "output_type": "stream",
          "name": "stdout",
          "text": [
            "acuuracy== 0.55\n"
          ]
        }
      ]
    },
    {
      "cell_type": "code",
      "source": [
        "rfc.fit(X_train , y_train)\n",
        "\n",
        "y_pred =rfc.predict(X_test)\n",
        "\n",
        "print('acuuracy==', metrics.accuracy_score(y_test, y_pred))"
      ],
      "metadata": {
        "colab": {
          "base_uri": "https://localhost:8080/"
        },
        "id": "A4XeNqBXn9m-",
        "outputId": "b5c30990-a3bf-4c95-b9b9-72489f868d6d"
      },
      "execution_count": 71,
      "outputs": [
        {
          "output_type": "stream",
          "name": "stdout",
          "text": [
            "acuuracy== 0.65\n"
          ]
        }
      ]
    },
    {
      "cell_type": "code",
      "source": [
        "etc.fit(X_train , y_train)\n",
        "\n",
        "y_pred =etc.predict(X_test)\n",
        "\n",
        "print('acuuracy==', metrics.accuracy_score(y_test, y_pred))"
      ],
      "metadata": {
        "colab": {
          "base_uri": "https://localhost:8080/"
        },
        "id": "tkyFsrd_oCJr",
        "outputId": "138d0790-4190-468f-a8e7-f04307a87c90"
      },
      "execution_count": 72,
      "outputs": [
        {
          "output_type": "stream",
          "name": "stdout",
          "text": [
            "acuuracy== 0.65\n"
          ]
        }
      ]
    },
    {
      "cell_type": "code",
      "source": [
        "gbdt.fit(X_train , y_train)\n",
        "\n",
        "y_pred =gbdt.predict(X_test)\n",
        "\n",
        "print('acuuracy==', metrics.accuracy_score(y_test, y_pred))"
      ],
      "metadata": {
        "colab": {
          "base_uri": "https://localhost:8080/"
        },
        "id": "d6nhaC7noRtX",
        "outputId": "d60bd738-d465-42d1-90ee-40e6534c1771"
      },
      "execution_count": 73,
      "outputs": [
        {
          "output_type": "stream",
          "name": "stdout",
          "text": [
            "acuuracy== 0.6\n"
          ]
        }
      ]
    },
    {
      "cell_type": "code",
      "source": [
        "xgb.fit(X_train , y_train)\n",
        "\n",
        "y_pred =xgb.predict(X_test)\n",
        "\n",
        "print('acuuracy==', metrics.accuracy_score(y_test, y_pred))"
      ],
      "metadata": {
        "colab": {
          "base_uri": "https://localhost:8080/"
        },
        "id": "OpVSFFEVoU0a",
        "outputId": "4ab9461c-44cc-4be4-8060-f49cf2f8c600"
      },
      "execution_count": 74,
      "outputs": [
        {
          "output_type": "stream",
          "name": "stdout",
          "text": [
            "acuuracy== 0.55\n"
          ]
        }
      ]
    },
    {
      "cell_type": "code",
      "source": [
        "bc.fit(X_train , y_train)\n",
        "\n",
        "y_pred =bc.predict(X_test)\n",
        "\n",
        "print('acuuracy==', metrics.accuracy_score(y_test, y_pred))"
      ],
      "metadata": {
        "colab": {
          "base_uri": "https://localhost:8080/"
        },
        "id": "AXafd8qTL8mj",
        "outputId": "f389f4b2-2956-48a2-e94a-f3cbda3e0595"
      },
      "execution_count": 76,
      "outputs": [
        {
          "output_type": "stream",
          "name": "stdout",
          "text": [
            "acuuracy== 0.55\n"
          ]
        }
      ]
    },
    {
      "cell_type": "code",
      "source": [
        "import pickle\n",
        "with open(\"random_forest.pkl\", \"wb\") as model_file:\n",
        "  pickle.dump(rt, model_file)"
      ],
      "metadata": {
        "id": "RKYIKgIWkYyx"
      },
      "execution_count": 82,
      "outputs": []
    },
    {
      "cell_type": "code",
      "source": [],
      "metadata": {
        "id": "a1ozeF7bKj2d"
      },
      "execution_count": null,
      "outputs": []
    }
  ]
}